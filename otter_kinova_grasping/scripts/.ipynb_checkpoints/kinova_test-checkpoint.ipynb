{
 "cells": [
  {
   "cell_type": "code",
   "execution_count": 1,
   "metadata": {},
   "outputs": [],
   "source": [
    "import tensorflow as tf"
   ]
  },
  {
   "cell_type": "code",
   "execution_count": 2,
   "metadata": {},
   "outputs": [],
   "source": [
    "import rospy\n",
    "import numpy as np\n",
    "%load_ext autoreload\n",
    "%autoreload 2\n",
    "\n",
    "# roslaunch kinova_bringup kinova_robot.launch kinova_robotType:=j2n6s300 use_urdf:=true\n",
    "\n",
    "# rosrun kinova_demo fingers_action_client.py -v j2n6s300 turn 1000 1000 1000\n",
    "\n",
    "# pose\n",
    "\n",
    "# $ rosrun kinova_demo pose_action_client.py -v  j2n6s300 mrad -- 0.07 -0.41 0.4 1.79 0.52 -0.22\n",
    "\n",
    "# rosrun kinova_demo pose_action_client.py -v  j2n6s300 mdeg -- 0.3 0 0.4  -360 0 -90\n",
    "\n",
    "# rosrun kinova_demo pose_action_client.py -v  j2n6s300 mrad -- 0.3 0 0.4  -3.13 0.0  -1.6\n",
    "\n",
    "# joint1: 169.621444702\n",
    "# joint2: 181.644241333\n",
    "# joint3: 82.3455047607\n",
    "# joint4: 330.047546387\n",
    "# joint5: 97.5595321655\n",
    "# joint6: -40.4018592834\n",
    "\n",
    "\n",
    "# joint1: 264.667297363\n",
    "# joint2: 180.805374146\n",
    "# joint3: 110.492965698\n",
    "# joint4: 302.359649658\n",
    "# joint5: 143.923019409\n",
    "# joint6: -64.330406189\n",
    "\n",
    "#  init grasp joint position  original\n",
    "# rosrun kinova_demo joints_action_client.py -v  j2n6s300 degree -- 169.6 181.6 82.3 330.0 97.6 -40.4 \n",
    "\n",
    "# rosrun kinova_demo joints_action_client.py -v  j2n6s300 degree -- 259.6 181.6 82.3 330.0 97.6 -40.4 \n",
    "\n",
    "\n",
    "\n",
    "# rostopic pub -r 100 /j2n6s300_driver/in/cartesian_velocity kinova_msgs/PoseVelocity \"{twist_linear_x: 0.0, twist_linear_y: 0.0, twist_linear_z: 0.0, twist_angular_x: 0.0, twist_angular_y: 0.0, twist_angular_z: 10.0}\" "
   ]
  },
  {
   "cell_type": "code",
   "execution_count": 3,
   "metadata": {},
   "outputs": [
    {
     "name": "stderr",
     "output_type": "stream",
     "text": [
      "the rosdep view is empty: call 'sudo rosdep init' and 'rosdep update'\n"
     ]
    }
   ],
   "source": [
    "from helpers.gripper_action_client import set_finger_positions\n",
    "from helpers.position_action_client import position_client, move_to_position\n",
    "import tf.transformations as tft\n",
    "#from helpers.transforms import current_robot_pose, publish_tf_quaterion_as_transform, convert_pose, publish_pose_as_transform\n",
    "from helpers.covariance import generate_cartesian_covariance"
   ]
  },
  {
   "cell_type": "code",
   "execution_count": 4,
   "metadata": {},
   "outputs": [],
   "source": [
    "rospy.init_node('ggcnn_test')"
   ]
  },
  {
   "cell_type": "code",
   "execution_count": 5,
   "metadata": {},
   "outputs": [
    {
     "data": {
      "text/plain": [
       "fingers: \n",
       "  finger1: -6.0\n",
       "  finger2: 6.0\n",
       "  finger3: 0.0"
      ]
     },
     "execution_count": 5,
     "metadata": {},
     "output_type": "execute_result"
    }
   ],
   "source": [
    "set_finger_positions([0, 0, 0])"
   ]
  },
  {
   "cell_type": "code",
   "execution_count": 6,
   "metadata": {},
   "outputs": [
    {
     "data": {
      "text/plain": [
       "pose: \n",
       "  header: \n",
       "    seq: 0\n",
       "    stamp: \n",
       "      secs: 0\n",
       "      nsecs:         0\n",
       "    frame_id: \"j2n6s300_link_base\"\n",
       "  pose: \n",
       "    position: \n",
       "      x: 0.00162593228742\n",
       "      y: -0.298371553421\n",
       "      z: 0.497777849436\n",
       "    orientation: \n",
       "      x: 0.999711039329\n",
       "      y: 0.0077561265962\n",
       "      z: 0.0114704340388\n",
       "      w: 0.0196496688889"
      ]
     },
     "execution_count": 6,
     "metadata": {},
     "output_type": "execute_result"
    }
   ],
   "source": [
    "move_to_position([0, -0.3 , 0.5], [1, 0, 0, 0.0078])"
   ]
  },
  {
   "cell_type": "code",
   "execution_count": 8,
   "metadata": {},
   "outputs": [
    {
     "data": {
      "text/plain": [
       "0.14106735979665894"
      ]
     },
     "execution_count": 8,
     "metadata": {},
     "output_type": "execute_result"
    }
   ],
   "source": [
    "np.sqrt(1-0.99**2)"
   ]
  },
  {
   "cell_type": "code",
   "execution_count": 7,
   "metadata": {},
   "outputs": [],
   "source": [
    "\n",
    "MOVING = False  # Flag whether the robot is moving under velocity control.\n",
    "CURR_Z = 0  # Current end-effector z height.\n",
    "\n",
    "def robot_wrench_callback(msg):\n",
    "    # Monitor wrench to cancel movement on collision.\n",
    "    global MOVING\n",
    "    if MOVING and msg.wrench.force.z < -2.0:\n",
    "        MOVING = False\n",
    "        rospy.logerr('Force Detected. Stopping.')\n",
    "\n",
    "\n",
    "def robot_position_callback(msg):\n",
    "    # Monitor robot position.\n",
    "    global CURR_Z\n",
    "    CURR_Z = msg.pose.position.z\n",
    "\n",
    "    \n",
    "def move_to_pose(pose):\n",
    "    # Wrapper for move to position.\n",
    "    p = pose.position\n",
    "    o = pose.orientation\n",
    "    move_to_position([p.x, p.y, p.z], [o.x, o.y, o.z, o.w])\n",
    "\n",
    "def move_home():\n",
    "    move_to_position([0, -0.64, 0.3], [-1, 0, 0, 0.001])"
   ]
  },
  {
   "cell_type": "code",
   "execution_count": 8,
   "metadata": {},
   "outputs": [],
   "source": [
    "\n",
    "import kinova_msgs.msg\n",
    "import kinova_msgs.srv\n",
    "import std_msgs.msg\n",
    "import std_srvs.srv\n",
    "import geometry_msgs.msg\n",
    "from helpers.transforms import current_robot_pose, publish_tf_quaterion_as_transform, convert_pose, publish_pose_as_transform\n",
    "\n",
    "# Robot Monitors.\n",
    "wrench_sub = rospy.Subscriber('/j2n6s300_driver/out/tool_wrench', geometry_msgs.msg.WrenchStamped, robot_wrench_callback, queue_size=1)\n",
    "position_sub = rospy.Subscriber('/j2n6s300_driver/out/tool_pose', geometry_msgs.msg.PoseStamped, robot_position_callback, queue_size=1)\n"
   ]
  },
  {
   "cell_type": "code",
   "execution_count": 17,
   "metadata": {},
   "outputs": [],
   "source": [
    "start_force_srv = rospy.ServiceProxy('/j2n6s300_driver/in/start_force_control', kinova_msgs.srv.Start)\n",
    "stop_force_srv = rospy.ServiceProxy('/j2n6s300_driver/in/stop_force_control', kinova_msgs.srv.Stop)\n",
    "\n",
    "move_home()"
   ]
  },
  {
   "cell_type": "code",
   "execution_count": 9,
   "metadata": {},
   "outputs": [
    {
     "data": {
      "text/plain": [
       "fingers: \n",
       "  finger1: 504.0\n",
       "  finger2: 492.0\n",
       "  finger3: 504.0"
      ]
     },
     "execution_count": 9,
     "metadata": {},
     "output_type": "execute_result"
    }
   ],
   "source": [
    "set_finger_positions([500, 500, 500])"
   ]
  },
  {
   "cell_type": "code",
   "execution_count": 9,
   "metadata": {},
   "outputs": [],
   "source": [
    "# Get the positions.\n",
    "msg = rospy.wait_for_message('/ggcnn/out/command', std_msgs.msg.Float32MultiArray)\n",
    "d = list(msg.data)"
   ]
  },
  {
   "cell_type": "code",
   "execution_count": 10,
   "metadata": {},
   "outputs": [
    {
     "data": {
      "text/plain": [
       "[0.23334185779094696,\n",
       " -0.04684418439865112,\n",
       " 0.6150000095367432,\n",
       " 0.6724070310592651,\n",
       " 80.011474609375,\n",
       " 510.68060302734375]"
      ]
     },
     "execution_count": 10,
     "metadata": {},
     "output_type": "execute_result"
    }
   ],
   "source": [
    "d"
   ]
  },
  {
   "cell_type": "code",
   "execution_count": 11,
   "metadata": {},
   "outputs": [
    {
     "data": {
      "text/plain": [
       "4000"
      ]
     },
     "execution_count": 11,
     "metadata": {},
     "output_type": "execute_result"
    }
   ],
   "source": [
    "grip_width = d[4]\n",
    "# Convert width in pixels to mm.\n",
    "# 0.07 is distance from end effector (CURR_Z) to camera.\n",
    "# 0.1 is approx degrees per pixel for the realsense.\n",
    "g_width = 2 * ((CURR_Z + 0.07)) * np.tan(0.1 * grip_width / 2.0 / 180.0 * np.pi) * 1000\n",
    "# Convert into motor positions.\n",
    "g = min((1 - (min(g_width, 70)/70)) * (6800-4000) + 4000, 5500)\n",
    "g"
   ]
  },
  {
   "cell_type": "code",
   "execution_count": 12,
   "metadata": {},
   "outputs": [
    {
     "data": {
      "text/plain": [
       "fingers: \n",
       "  finger1: 3984.0\n",
       "  finger2: 3978.0\n",
       "  finger3: 3984.0"
      ]
     },
     "execution_count": 12,
     "metadata": {},
     "output_type": "execute_result"
    }
   ],
   "source": [
    "set_finger_positions([g, g, g])"
   ]
  },
  {
   "cell_type": "code",
   "execution_count": 13,
   "metadata": {},
   "outputs": [
    {
     "name": "stdout",
     "output_type": "stream",
     "text": [
      "position: \n",
      "  x: -0.180753745872\n",
      "  y: -0.35740727703\n",
      "  z: -0.0825815676901\n",
      "orientation: \n",
      "  x: 0.136745119604\n",
      "  y: 0.989578750035\n",
      "  z: -0.000428054066153\n",
      "  w: 0.0451052825536\n"
     ]
    }
   ],
   "source": [
    "gp = geometry_msgs.msg.Pose()\n",
    "gp.position.x = d[0]\n",
    "gp.position.y = d[1]\n",
    "gp.position.z = d[2]\n",
    "gp.orientation.w = 1\n",
    "\n",
    "# Convert to base frame, add the angle in (ensures planar grasp, camera isn't guaranteed to be perpendicular).\n",
    "gp_base = convert_pose(gp, 'camera_depth_optical_frame', 'j2n6s300_link_base')\n",
    "print(gp_base)"
   ]
  },
  {
   "cell_type": "code",
   "execution_count": 192,
   "metadata": {},
   "outputs": [],
   "source": [
    "publish_pose_as_transform(gp_base, 'j2ns300_link_base', 'G', 0.5)"
   ]
  },
  {
   "cell_type": "code",
   "execution_count": 176,
   "metadata": {},
   "outputs": [
    {
     "name": "stdout",
     "output_type": "stream",
     "text": [
      "position: \n",
      "  x: 0\n",
      "  y: -0.64\n",
      "  z: 0.02\n",
      "orientation: \n",
      "  x: -1.0\n",
      "  y: 0.0\n",
      "  z: 0.0\n",
      "  w: 6.123233995736766e-17\n"
     ]
    }
   ],
   "source": [
    "# I added\n",
    "d[3] = 0 \n",
    "gp_base.position.x = 0\n",
    "gp_base.position.y = -0.64\n",
    "gp_base.position.z = 0.02\n",
    "\n",
    "# angle \n",
    "q = tft.quaternion_from_euler(-np.pi, 0, d[3])\n",
    "gp_base.orientation.x = q[0]\n",
    "gp_base.orientation.y = q[1]\n",
    "gp_base.orientation.z = q[2]\n",
    "gp_base.orientation.w = q[3]\n",
    "\n",
    "print(gp_base)"
   ]
  },
  {
   "cell_type": "code",
   "execution_count": 15,
   "metadata": {},
   "outputs": [
    {
     "data": {
      "text/plain": [
       "position: \n",
       "  x: -0.180753745872\n",
       "  y: -0.35740727703\n",
       "  z: 0.11741843231\n",
       "orientation: \n",
       "  x: 0.136745119604\n",
       "  y: 0.989578750035\n",
       "  z: -0.000428054066153\n",
       "  w: 0.0451052825536"
      ]
     },
     "execution_count": 15,
     "metadata": {},
     "output_type": "execute_result"
    }
   ],
   "source": [
    "# Offset for initial pose.\n",
    "initial_offset = 0.20\n",
    "gp_base.position.z += initial_offset\n",
    "gp_base"
   ]
  },
  {
   "cell_type": "code",
   "execution_count": 18,
   "metadata": {},
   "outputs": [
    {
     "name": "stdout",
     "output_type": "stream",
     "text": [
      "        the cartesian action timed-out\n"
     ]
    },
    {
     "data": {
      "text/plain": [
       "fingers: \n",
       "  finger1: 4008.0\n",
       "  finger2: 4002.0\n",
       "  finger3: 4008.0"
      ]
     },
     "execution_count": 18,
     "metadata": {},
     "output_type": "execute_result"
    }
   ],
   "source": [
    "# Disable force control, makes the robot more accurate.\n",
    "stop_force_srv.call(kinova_msgs.srv.StopRequest())\n",
    "move_to_pose(gp_base)\n",
    "\n",
    "#g = 1000\n",
    "set_finger_positions([g, g, g])"
   ]
  },
  {
   "cell_type": "code",
   "execution_count": 179,
   "metadata": {},
   "outputs": [
    {
     "data": {
      "text/plain": [
       "position: \n",
       "  x: 0\n",
       "  y: -0.64\n",
       "  z: 0.02\n",
       "orientation: \n",
       "  x: -1.0\n",
       "  y: 0.0\n",
       "  z: 0.0\n",
       "  w: 6.123233995736766e-17"
      ]
     },
     "execution_count": 179,
     "metadata": {},
     "output_type": "execute_result"
    }
   ],
   "source": [
    "# Reset the position\n",
    "gp_base.position.z -= initial_offset\n",
    "gp_base"
   ]
  },
  {
   "cell_type": "code",
   "execution_count": 19,
   "metadata": {},
   "outputs": [],
   "source": [
    "\n",
    "# Start force control, helps prevent bad collisions.\n",
    "start_force_srv.call(kinova_msgs.srv.StartRequest())\n",
    "stop_force_srv.call(kinova_msgs.srv.StopRequest())\n",
    "# Flag to check for collisions.\n",
    "MOVING = True"
   ]
  },
  {
   "cell_type": "code",
   "execution_count": 20,
   "metadata": {},
   "outputs": [
    {
     "data": {
      "text/plain": [
       "array([[1., 0., 0.],\n",
       "       [0., 1., 0.],\n",
       "       [0., 0., 1.]])"
      ]
     },
     "execution_count": 20,
     "metadata": {},
     "output_type": "execute_result"
    }
   ],
   "source": [
    "# Generate a nonlinearity for the controller.\n",
    "cart_cov = generate_cartesian_covariance(0)\n",
    "cart_cov"
   ]
  },
  {
   "cell_type": "code",
   "execution_count": 21,
   "metadata": {},
   "outputs": [
    {
     "ename": "KeyboardInterrupt",
     "evalue": "",
     "output_type": "error",
     "traceback": [
      "\u001b[0;31m---------------------------------------------------------------------------\u001b[0m",
      "\u001b[0;31mKeyboardInterrupt\u001b[0m                         Traceback (most recent call last)",
      "\u001b[0;32m<ipython-input-21-730f57738ea6>\u001b[0m in \u001b[0;36m<module>\u001b[0;34m()\u001b[0m\n\u001b[1;32m      9\u001b[0m     \u001b[0mvc\u001b[0m \u001b[0;34m=\u001b[0m \u001b[0mlist\u001b[0m\u001b[0;34m(\u001b[0m\u001b[0mnp\u001b[0m\u001b[0;34m.\u001b[0m\u001b[0mdot\u001b[0m\u001b[0;34m(\u001b[0m\u001b[0mv\u001b[0m\u001b[0;34m,\u001b[0m \u001b[0mcart_cov\u001b[0m\u001b[0;34m)\u001b[0m\u001b[0;34m)\u001b[0m \u001b[0;34m+\u001b[0m \u001b[0;34m[\u001b[0m\u001b[0;36m0\u001b[0m\u001b[0;34m,\u001b[0m \u001b[0;36m0\u001b[0m\u001b[0;34m,\u001b[0m \u001b[0;36m0\u001b[0m\u001b[0;34m]\u001b[0m\u001b[0;34m\u001b[0m\u001b[0m\n\u001b[1;32m     10\u001b[0m     \u001b[0mvelo_pub\u001b[0m\u001b[0;34m.\u001b[0m\u001b[0mpublish\u001b[0m\u001b[0;34m(\u001b[0m\u001b[0mkinova_msgs\u001b[0m\u001b[0;34m.\u001b[0m\u001b[0mmsg\u001b[0m\u001b[0;34m.\u001b[0m\u001b[0mPoseVelocity\u001b[0m\u001b[0;34m(\u001b[0m\u001b[0;34m*\u001b[0m\u001b[0mvc\u001b[0m\u001b[0;34m)\u001b[0m\u001b[0;34m)\u001b[0m\u001b[0;34m\u001b[0m\u001b[0m\n\u001b[0;32m---> 11\u001b[0;31m     \u001b[0mrospy\u001b[0m\u001b[0;34m.\u001b[0m\u001b[0msleep\u001b[0m\u001b[0;34m(\u001b[0m\u001b[0;36m1\u001b[0m\u001b[0;34m/\u001b[0m\u001b[0;36m100.0\u001b[0m\u001b[0;34m)\u001b[0m\u001b[0;34m\u001b[0m\u001b[0m\n\u001b[0m",
      "\u001b[0;32m/opt/ros/kinetic/lib/python2.7/dist-packages/rospy/timer.pyc\u001b[0m in \u001b[0;36msleep\u001b[0;34m(duration)\u001b[0m\n\u001b[1;32m    132\u001b[0m             \u001b[0;32mreturn\u001b[0m\u001b[0;34m\u001b[0m\u001b[0m\n\u001b[1;32m    133\u001b[0m         \u001b[0;32melse\u001b[0m\u001b[0;34m:\u001b[0m\u001b[0;34m\u001b[0m\u001b[0m\n\u001b[0;32m--> 134\u001b[0;31m             \u001b[0mrospy\u001b[0m\u001b[0;34m.\u001b[0m\u001b[0mrostime\u001b[0m\u001b[0;34m.\u001b[0m\u001b[0mwallsleep\u001b[0m\u001b[0;34m(\u001b[0m\u001b[0mduration\u001b[0m\u001b[0;34m)\u001b[0m\u001b[0;34m\u001b[0m\u001b[0m\n\u001b[0m\u001b[1;32m    135\u001b[0m     \u001b[0;32melse\u001b[0m\u001b[0;34m:\u001b[0m\u001b[0;34m\u001b[0m\u001b[0m\n\u001b[1;32m    136\u001b[0m         \u001b[0minitial_rostime\u001b[0m \u001b[0;34m=\u001b[0m \u001b[0mrospy\u001b[0m\u001b[0;34m.\u001b[0m\u001b[0mrostime\u001b[0m\u001b[0;34m.\u001b[0m\u001b[0mget_rostime\u001b[0m\u001b[0;34m(\u001b[0m\u001b[0;34m)\u001b[0m\u001b[0;34m\u001b[0m\u001b[0m\n",
      "\u001b[0;32m/opt/ros/kinetic/lib/python2.7/dist-packages/rospy/rostime.pyc\u001b[0m in \u001b[0;36mwallsleep\u001b[0;34m(duration)\u001b[0m\n\u001b[1;32m    275\u001b[0m             \u001b[0;32mpass\u001b[0m\u001b[0;34m\u001b[0m\u001b[0m\n\u001b[1;32m    276\u001b[0m     \u001b[0;32melse\u001b[0m\u001b[0;34m:\u001b[0m\u001b[0;34m\u001b[0m\u001b[0m\n\u001b[0;32m--> 277\u001b[0;31m         \u001b[0mtime\u001b[0m\u001b[0;34m.\u001b[0m\u001b[0msleep\u001b[0m\u001b[0;34m(\u001b[0m\u001b[0mduration\u001b[0m\u001b[0;34m)\u001b[0m\u001b[0;34m\u001b[0m\u001b[0m\n\u001b[0m",
      "\u001b[0;31mKeyboardInterrupt\u001b[0m: "
     ]
    }
   ],
   "source": [
    "# Move straight down under velocity control.\n",
    "velo_pub = rospy.Publisher('/j2n6s300_driver/in/cartesian_velocity', kinova_msgs.msg.PoseVelocity, queue_size=1)\n",
    "while MOVING and CURR_Z - 0.02 > gp_base.position.z-0.03:\n",
    "    dz = gp_base.position.z - CURR_Z - 0.03   # Offset by a few cm for the fingertips.\n",
    "    MAX_VELO_Z = 0.10\n",
    "    dz = max(min(dz, MAX_VELO_Z), -1.0*MAX_VELO_Z)\n",
    "\n",
    "    v = np.array([0, 0, dz])\n",
    "    vc = list(np.dot(v, cart_cov)) + [0, 0, 0]\n",
    "    velo_pub.publish(kinova_msgs.msg.PoseVelocity(*vc))\n",
    "    rospy.sleep(1/100.0)"
   ]
  },
  {
   "cell_type": "code",
   "execution_count": 183,
   "metadata": {},
   "outputs": [],
   "source": [
    "MOVING = False\n",
    "\n",
    "# close the fingers.\n",
    "rospy.sleep(0.1)\n",
    "set_finger_positions([4800, 4800, 4800])\n",
    "rospy.sleep(0.5)"
   ]
  },
  {
   "cell_type": "code",
   "execution_count": 184,
   "metadata": {},
   "outputs": [],
   "source": [
    "# Move back up to initial position.\n",
    "gp_base.position.z += initial_offset\n",
    "gp_base.orientation.x = 1\n",
    "gp_base.orientation.y = 0\n",
    "gp_base.orientation.z = 0\n",
    "gp_base.orientation.w = 0\n",
    "move_to_pose(gp_base)"
   ]
  },
  {
   "cell_type": "code",
   "execution_count": 185,
   "metadata": {},
   "outputs": [
    {
     "data": {
      "text/plain": [
       "fingers: \n",
       "  finger1: 48.0\n",
       "  finger2: 60.0\n",
       "  finger3: 48.0"
      ]
     },
     "execution_count": 185,
     "metadata": {},
     "output_type": "execute_result"
    }
   ],
   "source": [
    "move_home()\n",
    "set_finger_positions([0, 0, 0])"
   ]
  },
  {
   "cell_type": "code",
   "execution_count": null,
   "metadata": {},
   "outputs": [],
   "source": []
  }
 ],
 "metadata": {
  "kernelspec": {
   "display_name": "py27sys",
   "language": "python",
   "name": "python2"
  },
  "language_info": {
   "codemirror_mode": {
    "name": "ipython",
    "version": 2
   },
   "file_extension": ".py",
   "mimetype": "text/x-python",
   "name": "python",
   "nbconvert_exporter": "python",
   "pygments_lexer": "ipython2",
   "version": "2.7.12"
  }
 },
 "nbformat": 4,
 "nbformat_minor": 2
}
